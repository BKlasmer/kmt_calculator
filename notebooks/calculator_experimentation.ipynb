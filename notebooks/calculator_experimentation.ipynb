{
 "cells": [
  {
   "cell_type": "markdown",
   "metadata": {},
   "source": [
    "# Kheiron Medical Technologies Calculator"
   ]
  },
  {
   "cell_type": "code",
   "execution_count": 1,
   "metadata": {},
   "outputs": [],
   "source": [
    "from kmt_calculator import CalculatorPrefix, CalculatorInfix"
   ]
  },
  {
   "cell_type": "markdown",
   "metadata": {},
   "source": [
    "### Part 1 - Prefix Calculator"
   ]
  },
  {
   "cell_type": "markdown",
   "metadata": {},
   "source": [
    "Go through the examples given (these examples are also integrated as unit tests)"
   ]
  },
  {
   "cell_type": "code",
   "execution_count": 2,
   "metadata": {},
   "outputs": [
    {
     "name": "stdout",
     "output_type": "stream",
     "text": [
      "2021-01-31 10:56:06 INFO CalculatorPrefix: Initialise Prefix Calculator\n"
     ]
    }
   ],
   "source": [
    "PrefixCalc = CalculatorPrefix()"
   ]
  },
  {
   "cell_type": "code",
   "execution_count": 3,
   "metadata": {},
   "outputs": [
    {
     "name": "stdout",
     "output_type": "stream",
     "text": [
      "2021-01-31 10:56:06 INFO CalculatorPrefix: Evaluating: 3\n",
      "Output: 3\n",
      "2021-01-31 10:56:06 INFO CalculatorPrefix: Evaluating: + 1 2\n",
      "Output: 3\n",
      "2021-01-31 10:56:06 INFO CalculatorPrefix: Evaluating: + 1 * 2 3\n",
      "Output: 7\n",
      "2021-01-31 10:56:06 INFO CalculatorPrefix: Evaluating: + * 1 2 3\n",
      "Output: 5\n",
      "2021-01-31 10:56:06 INFO CalculatorPrefix: Evaluating: - / 10 + 1 1 * 1 2\n",
      "Output: 3\n",
      "2021-01-31 10:56:06 INFO CalculatorPrefix: Evaluating: - 0 3\n",
      "Output: -3\n",
      "2021-01-31 10:56:06 INFO CalculatorPrefix: Evaluating: / 3 2\n",
      "Output: 1\n"
     ]
    }
   ],
   "source": [
    "expressions = [\"3\", \"+ 1 2\", \"+ 1 * 2 3\", \"+ * 1 2 3\", \"- / 10 + 1 1 * 1 2\", \"- 0 3\", \"/ 3 2\"]\n",
    "for expression in expressions:\n",
    "    print(f\"Output: {PrefixCalc.parse_prefix_expression(expression)}\")"
   ]
  },
  {
   "cell_type": "code",
   "execution_count": 4,
   "metadata": {},
   "outputs": [
    {
     "name": "stdout",
     "output_type": "stream",
     "text": [
      "2021-01-31 10:56:07 INFO CalculatorInfix: Initialise Infix Calculator\n"
     ]
    }
   ],
   "source": [
    "InfixCalc = CalculatorInfix()"
   ]
  },
  {
   "cell_type": "code",
   "execution_count": 5,
   "metadata": {},
   "outputs": [
    {
     "name": "stdout",
     "output_type": "stream",
     "text": [
      "2021-01-31 10:56:07 INFO CalculatorInfix: Evaluating: 3\n",
      "Output: 3\n",
      "2021-01-31 10:56:07 INFO CalculatorInfix: Evaluating: + 1 2\n",
      "Output: 3\n",
      "2021-01-31 10:56:07 INFO CalculatorInfix: Evaluating: + 1 * 2 3\n",
      "Output: 7\n",
      "2021-01-31 10:56:07 INFO CalculatorInfix: Evaluating: + * 1 2 3\n",
      "Output: 5\n",
      "2021-01-31 10:56:07 INFO CalculatorInfix: Evaluating: - / 10 + 1 1 * 1 2\n",
      "Output: 3\n",
      "2021-01-31 10:56:07 INFO CalculatorInfix: Evaluating: - 0 3\n",
      "Output: -3\n",
      "2021-01-31 10:56:07 INFO CalculatorInfix: Evaluating: / 3 2\n",
      "Output: 1\n"
     ]
    }
   ],
   "source": [
    "expressions = [\"3\", \"+ 1 2\", \"+ 1 * 2 3\", \"+ * 1 2 3\", \"- / 10 + 1 1 * 1 2\", \"- 0 3\", \"/ 3 2\"]\n",
    "for expression in expressions:\n",
    "    print(f\"Output: {InfixCalc.parse_prefix_expression(expression)}\")"
   ]
  },
  {
   "cell_type": "code",
   "execution_count": null,
   "metadata": {},
   "outputs": [],
   "source": []
  }
 ],
 "metadata": {
  "kernelspec": {
   "display_name": "Python 3",
   "language": "python",
   "name": "python3"
  },
  "language_info": {
   "codemirror_mode": {
    "name": "ipython",
    "version": 3
   },
   "file_extension": ".py",
   "mimetype": "text/x-python",
   "name": "python",
   "nbconvert_exporter": "python",
   "pygments_lexer": "ipython3",
   "version": "3.7.3"
  }
 },
 "nbformat": 4,
 "nbformat_minor": 4
}
